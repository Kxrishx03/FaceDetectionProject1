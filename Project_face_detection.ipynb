{
 "cells": [
  {
   "cell_type": "code",
   "execution_count": 1,
   "id": "fce2ec83-453b-44a3-991a-f6624f02986e",
   "metadata": {},
   "outputs": [],
   "source": [
    "import numpy as np\n",
    "import cv2"
   ]
  },
  {
   "cell_type": "code",
   "execution_count": 2,
   "id": "f8c89d52-8b14-419c-9f6c-26df224276dd",
   "metadata": {},
   "outputs": [],
   "source": [
    "img = cv2.imread('Face.jpg')\n",
    "\n",
    "cv2.imshow('Face',img)\n",
    "cv2.waitKey(0)\n",
    "cv2.destroyAllWindows()\n"
   ]
  },
  {
   "cell_type": "code",
   "execution_count": 4,
   "id": "e9fb9216-8bde-4553-a42e-a965f600862f",
   "metadata": {},
   "outputs": [],
   "source": [
    "face_cascade = cv2.CascadeClassifier('haarcascade_frontalface_default.xml')"
   ]
  },
  {
   "cell_type": "code",
   "execution_count": 15,
   "id": "5e71ab75-ae13-48d6-b623-f5ade1c89aa0",
   "metadata": {},
   "outputs": [],
   "source": [
    "def face_detection(img):\n",
    "    image = img.copy()\n",
    "    #Step-1 : Convert image into grayscale\n",
    "    gray = cv2.cvtColor(img,cv2.COLOR_BGR2GRAY)\n",
    "    #Step-2 : Apply gray scale image to classifier\n",
    "    box,detections =face_cascade.detectMultiScale2(gray,minNeighbors=8)\n",
    "    #Step-3:Drawing Bounding box\n",
    "    for x,y,w,h in box:\n",
    "        cv2.rectangle(image,(x,y),(x+w,y+h),(0,255,0),1)\n",
    "    return image\n",
    "\n",
    "def display(winname,image):\n",
    "    cv2.imshow(winname,image)\n",
    "    cv2.waitKey(0)\n",
    "    cv2.destroyAllWindows()"
   ]
  },
  {
   "cell_type": "code",
   "execution_count": 16,
   "id": "0273d4ad-4ead-4ee1-ab9d-f168082808f2",
   "metadata": {},
   "outputs": [],
   "source": [
    "img_det = face_detection(img)\n",
    "display(\"Face Detection\",img_det)"
   ]
  },
  {
   "cell_type": "code",
   "execution_count": 10,
   "id": "17e73334-6d8e-4abd-b3c9-626ba9ad7079",
   "metadata": {},
   "outputs": [
    {
     "data": {
      "text/plain": [
       "array([38, 17, 26, 37, 23])"
      ]
     },
     "execution_count": 10,
     "metadata": {},
     "output_type": "execute_result"
    }
   ],
   "source": [
    "detections"
   ]
  },
  {
   "cell_type": "code",
   "execution_count": null,
   "id": "66a397b8-4a99-403b-aba4-661222c8f132",
   "metadata": {},
   "outputs": [],
   "source": []
  }
 ],
 "metadata": {
  "kernelspec": {
   "display_name": "Python 3 (ipykernel)",
   "language": "python",
   "name": "python3"
  },
  "language_info": {
   "codemirror_mode": {
    "name": "ipython",
    "version": 3
   },
   "file_extension": ".py",
   "mimetype": "text/x-python",
   "name": "python",
   "nbconvert_exporter": "python",
   "pygments_lexer": "ipython3",
   "version": "3.12.2"
  }
 },
 "nbformat": 4,
 "nbformat_minor": 5
}
